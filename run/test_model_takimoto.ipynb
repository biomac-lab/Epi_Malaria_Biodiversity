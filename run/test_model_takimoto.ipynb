{
 "cells": [
  {
   "cell_type": "code",
   "execution_count": 1,
   "metadata": {},
   "outputs": [],
   "source": [
    "import os\n",
    "import sys\n",
    "import numpy as np\n",
    "import matplotlib.pyplot as plt\n",
    "import pandas as pd \n",
    "from scipy.integrate import odeint\n",
    "from tqdm import tqdm\n",
    "import ipywidgets as widgets\n",
    "import sympy as sym\n",
    "from ipywidgets import interact, interactive, fixed, interact_manual\n",
    "import ipywidgets as widgets"
   ]
  },
  {
   "cell_type": "code",
   "execution_count": 5,
   "metadata": {},
   "outputs": [
    {
     "name": "stdout",
     "output_type": "stream",
     "text": [
      "[-2.07722996  2.09733761  2.71714935  3.44253716]\n"
     ]
    }
   ],
   "source": [
    "#Set the seed\n",
    "np.random.seed(42)\n",
    "\n",
    "results_path = 'results'\n",
    "params_path = 'params'\n",
    "main_path = os.path.normpath(os.getcwd() + os.sep + os.pardir)\n",
    "\n",
    "#Define the parameters of the model\n",
    "num_species = 4\n",
    "num_scenarios = 20\n",
    "mu_H = 5.5*10**-5 #TAKIMOTO'S VALUE\n",
    "lambda_H = 1.3*10**-5 #TAKIMOTO'S VALUE\n",
    "lambda_V = np.random.uniform(0.35, 0.45)*100000 #TAKIMOTO'S VALUE\n",
    "gamma = 0.0035 #TAKIMOTO'S VALUE\n",
    "tau_HV = np.random.uniform(0.020, 0.025) #TAKIMOTO'S VALUE\n",
    "tau_VH = np.random.uniform(0.20, 0.28) #TAKIMOTO'S VALUE \n",
    "mu_V = np.random.uniform(0.11, 0.15) #TAKIMOTO'S VALUE\n",
    "sigma_V = np.random.uniform(0.25, 0.36) #TAKIMOTO'S VALUE\n",
    "sigma_H = np.random.uniform(3.9, 4.5) #TAKIMOTO'S VALUE\n",
    "\n",
    "dict_type = {0: 'domi', 1: 'high', 2: 'low'}\n",
    "\n",
    "#NO SE SI ESTO VA ACA O EN OTRA CARPETA\n",
    "vecTime = np.linspace(0, 500, 100)\n",
    "H_total = 1\n",
    "p_H_Infected = 0.09\n",
    "V_total = np.random.uniform(10000,50000, size=num_species)\n",
    "\n",
    "p_V_Infected = np.random.uniform(0, 0.15, size=num_species)\n",
    "\n",
    "condInit = [H_total*(1-p_H_Infected), H_total*(p_H_Infected)]\n",
    "\n",
    "for i in range(num_species):\n",
    "    condInit.append(V_total[i]*(1-p_V_Infected[i]))\n",
    "\n",
    "for i in range(num_species):\n",
    "    condInit.append(V_total[i]*(p_V_Infected[i]))\n",
    "\n",
    "b = np.array([lambda_V/mu_V for i in range(num_species)])\n",
    "A = np.zeros((num_species,num_species))\n",
    "\n",
    "mat_a_temp = np.load(os.path.join(main_path, params_path, str(num_species), 'domi'+\"_\"+'domi', 'mat_a_'+str(13)+'.npy'))\n",
    "\n",
    "\n",
    "for i in range(num_species):\n",
    "    for j in range(num_species):\n",
    "        if i == j:\n",
    "            A[i,j] = 1\n",
    "        else:\n",
    "            A[i,j] = mat_a_temp[i,j]*lambda_V/mu_V\n",
    "\n",
    "x_bar = np.linalg.solve(A, b)\n"
   ]
  },
  {
   "cell_type": "code",
   "execution_count": 6,
   "metadata": {},
   "outputs": [],
   "source": [
    "#Define additional functions\n",
    "def b_i(V, H, mat_pi):\n",
    "    return (sigma_V[i]*V*sigma_H[i]*H)/(sigma_V[i]*V + sigma_H[i]*H + np.sum([mat_pi[i,j]*sigma_V[j]*V for j in range(num_species)]))\n",
    "\n",
    "#Define the model function\n",
    "def model_HostVectorNspecies(variables, t, no_epi, mat_a, mat_pi, lambda_H, lambda_V, gamma, tau_HV, tau_VH, mu_H, mu_V):\n",
    "    #The first 2 variables are the host population (humans, S-I)\n",
    "    H_S = variables[0]\n",
    "    H_I = variables[1]\n",
    "    #The next 2*num_species variables are the vector population of different species (mosquitoes, S-I)\n",
    "    V_S = [variables[i]  for i in range(2, 2+num_species)]\n",
    "    V_I = [variables[i]  for i in range(2+num_species, 2+2*num_species)]\n",
    "\n",
    "    \n",
    "    derivatives = list()\n",
    "\n",
    "    if no_epi:\n",
    "        dH_Sdt = lambda_H - mu_H*H_S \n",
    "        dH_Idt = - mu_H*H_I - gamma*H_I \n",
    "        derivatives = derivatives + [dH_Sdt, dH_Idt]\n",
    "    \n",
    "        for i in range(num_species):\n",
    "            dV_Sidt = -mu_V*V_S[i] + lambda_V*(1-np.sum([mat_a[i,j]*(V_S[j]+V_I[j]) for j in range(num_species)]))\n",
    "            derivatives.append(dV_Sidt)\n",
    "            \n",
    "        for i in range(num_species):\n",
    "            dV_Iidt = -mu_V*V_I[i]\n",
    "            derivatives.append(dV_Iidt)\n",
    "    else:\n",
    "        dH_Sdt = lambda_H - mu_H*H_S + gamma*H_I - np.sum([tau_HV*(V_I[i])/(V_S[i]+V_I[i])*(b_i(V_S[i]+V_I[i], H_S+H_I, mat_pi)*H_S)/(H_S+H_I) for i in range(num_species)])\n",
    "        dH_Idt = - mu_H*H_I - gamma*H_I + np.sum([tau_HV*(V_I[i])/(V_S[i]+V_I[i])*(b_i(V_S[i]+V_I[i], H_S+H_I, mat_pi)*H_S)/(H_S+H_I) for i in range(num_species)])\n",
    "        \n",
    "        derivatives = derivatives + [dH_Sdt, dH_Idt]\n",
    "    \n",
    "        for i in range(num_species):\n",
    "            dV_Sidt = -mu_V*V_S[i] - tau_VH*(H_I)/(H_S+H_I)*(b_i(V_S[i]+V_I[i], H_S+H_I, mat_pi)*V_S[i])/(V_S[i] + V_I[i]) + lambda_V[i]*(1-np.sum([mat_a[i,j]*(V_S[j]+V_I[j]) for j in range(num_species)]))\n",
    "            derivatives.append(dV_Sidt)\n",
    "            \n",
    "        for i in range(num_species):\n",
    "            dV_Iidt = -mu_V[i]*V_I[i] + tau_VH[i]*(H_I)/(H_S+H_I)*(b_i(V_S[i]+V_I[i], H_S+H_I, mat_pi)*V_S[i])/(V_S[i] + V_I[i]) \n",
    "            derivatives.append(dV_Iidt)\n",
    "    \n",
    "\n",
    "    return derivatives\n"
   ]
  },
  {
   "cell_type": "code",
   "execution_count": 8,
   "metadata": {},
   "outputs": [
    {
     "data": {
      "application/vnd.jupyter.widget-view+json": {
       "model_id": "cfec2eeec0c4427f870066198a7b5736",
       "version_major": 2,
       "version_minor": 0
      },
      "text/plain": [
       "interactive(children=(Dropdown(description='scenario1', options=('domi', 'high', 'low'), value='domi'), Dropdo…"
      ]
     },
     "metadata": {},
     "output_type": "display_data"
    },
    {
     "data": {
      "text/plain": [
       "<function __main__.plot_same_scenarios(scenario1, scenario2, no_epi, lambda_V)>"
      ]
     },
     "execution_count": 8,
     "metadata": {},
     "output_type": "execute_result"
    }
   ],
   "source": [
    "mat_zeros = np.zeros((num_species, num_species))\n",
    "lambda_V_0 = np.zeros(num_species)\n",
    "tau_0 = np.zeros(num_species)\n",
    "\n",
    "def plot_same_scenarios(scenario1, scenario2, no_epi, lambda_V):\n",
    "    mat_a_temp = np.load(os.path.join(main_path, params_path, str(num_species), scenario1+\"_\"+scenario2, 'mat_a_'+str(13)+'.npy'))\n",
    "    mat_pi_temp =  np.load(os.path.join(main_path, params_path, str(num_species), scenario1+\"_\"+scenario2, 'mat_pi_'+str(13)+'.npy'))\n",
    "    \n",
    "    simu_test = odeint(model_HostVectorNspecies, condInit, vecTime, args=(no_epi,mat_a_temp, mat_pi_temp, lambda_H, lambda_V, gamma, tau_HV, tau_VH, mu_H, mu_V))\n",
    "\n",
    "    fig, axes = plt.subplots(2, 3, figsize=(15, 10))\n",
    "    fig.suptitle(scenario1+\"_\"+scenario2)\n",
    "    \n",
    "    fig.subplots_adjust(left=0.25, bottom=0.25)\n",
    "    \n",
    "    axes[0,0].plot(vecTime, simu_test[:,0], label=\"H_s\")\n",
    "    axes[0,0].plot(vecTime, simu_test[:,1], label=\"H_i\")\n",
    "    axes[0,0].set_title('Host')\n",
    "    axes[0,0].set_ylabel('H')\n",
    "    axes[0,0].grid()\n",
    "    axes[0,0].set_xlabel('Time')\n",
    "\n",
    "    axes[0,1].plot(vecTime, simu_test[:,2], label=\"V_s1\")\n",
    "    axes[0,1].plot(vecTime, simu_test[:,-4], label=\"V_h1\")\n",
    "    axes[0,1].set_title('Vector 1')\n",
    "    axes[0,1].set_ylabel('V')\n",
    "    axes[0,1].grid()\n",
    "    axes[0,1].set_xlabel('Time')\n",
    "\n",
    "    axes[0,2].plot(vecTime, simu_test[:,3], label=\"V_s2\")\n",
    "    axes[0,2].plot(vecTime, simu_test[:,-3], label=\"V_h2\")\n",
    "    axes[0,2].set_title('Vector 2')\n",
    "    axes[0,2].set_ylabel('V')\n",
    "    axes[0,2].grid()\n",
    "    axes[0,2].set_xlabel('Time')\n",
    "\n",
    "    axes[1,0].plot(vecTime, simu_test[:,4], label=\"V_s3\")\n",
    "    axes[1,0].plot(vecTime, simu_test[:,-2], label=\"V_h3\")\n",
    "    axes[1,0].set_title('Vector 3')\n",
    "    axes[1,0].set_ylabel('V')\n",
    "    axes[1,0].grid()\n",
    "    axes[1,0].set_xlabel('Time')\n",
    "\n",
    "    axes[1,1].plot(vecTime, simu_test[:,5], label=\"V_s4\")\n",
    "    axes[1,1].plot(vecTime, simu_test[:,-1], label=\"V_h4\")\n",
    "    axes[1,1].set_title('Vector 4')\n",
    "    axes[1,1].set_ylabel('V')\n",
    "    axes[1,1].grid()\n",
    "    axes[1,1].set_xlabel('Time')\n",
    "\n",
    "    axes[1,2].axis('off')\n",
    "\n",
    "\n",
    "interact(plot_same_scenarios, scenario1=['domi','high','low'], scenario2=['domi','high','low'], no_epi=[True, False], \n",
    "         lambda_V=(10,1200,100))\n",
    "    "
   ]
  }
 ],
 "metadata": {
  "kernelspec": {
   "display_name": "Python 3 (ipykernel)",
   "language": "python",
   "name": "python3"
  },
  "language_info": {
   "codemirror_mode": {
    "name": "ipython",
    "version": 3
   },
   "file_extension": ".py",
   "mimetype": "text/x-python",
   "name": "python",
   "nbconvert_exporter": "python",
   "pygments_lexer": "ipython3",
   "version": "3.12.4"
  }
 },
 "nbformat": 4,
 "nbformat_minor": 4
}
